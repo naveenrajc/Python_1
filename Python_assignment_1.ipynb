{
  "nbformat": 4,
  "nbformat_minor": 0,
  "metadata": {
    "colab": {
      "name": "Python-assignment-1.ipynb",
      "provenance": [],
      "collapsed_sections": []
    },
    "kernelspec": {
      "name": "python3",
      "display_name": "Python 3"
    }
  },
  "cells": [
    {
      "cell_type": "markdown",
      "metadata": {
        "id": "fhrmA_y3Fz4Y",
        "colab_type": "text"
      },
      "source": [
        "**TASK 1**"
      ]
    },
    {
      "cell_type": "markdown",
      "metadata": {
        "id": "1praAh_vGNs7",
        "colab_type": "text"
      },
      "source": [
        "1) **Install Jupyter notebook and run the first program and share the screenshot of the output**"
      ]
    },
    {
      "cell_type": "markdown",
      "metadata": {
        "id": "iw47fqVZVG-n",
        "colab_type": "text"
      },
      "source": [
        "![Jupiter notebook]\n",
        "\n",
        "(https://drive.google.com/open?id=1uOZa4jNWaHkSy-I_ypCzTnpRjrLVJPCE)"
      ]
    },
    {
      "cell_type": "markdown",
      "metadata": {
        "id": "Cvt7NeLyDqp_",
        "colab_type": "text"
      },
      "source": [
        "2)  **Write a program which will find all such numbers which are divisible by 7 but are not a\n",
        "\tmultiple of 5, between 2000 and 3200 (both included). The numbers obtained should be\n",
        "\tprinted in a comma-separated sequence on a single line.**"
      ]
    },
    {
      "cell_type": "code",
      "metadata": {
        "id": "IOW6KWK8DqvL",
        "colab_type": "code",
        "outputId": "9afd61a2-e947-475c-e6bb-6463b7293e5c",
        "colab": {
          "base_uri": "https://localhost:8080/",
          "height": 54
        }
      },
      "source": [
        "# Set Start Limit and End Limit Ranges\n",
        "start_limit = 2000\n",
        "end_limit = 3200\n",
        "\n",
        "# Set Range , assuming End Limit inclusive\n",
        "full_range = range(start_limit,end_limit + 1)\n",
        "\n",
        "# init List\n",
        "final_output_list = []\n",
        "# Loop over range to select numbers which are divisible by 7 but are not a multiple of 5\n",
        "# Append to list\n",
        "\n",
        "for i in full_range:\n",
        "  if(i%7 == 0 and i%5 != 0):\n",
        "    final_output_list.append(i)\n",
        "    \n",
        "# Convert final list into comma separated value string for display\n",
        "csv = ','.join(map(str, final_output_list))\n",
        "print (csv)"
      ],
      "execution_count": 0,
      "outputs": [
        {
          "output_type": "stream",
          "text": [
            "2002,2009,2016,2023,2037,2044,2051,2058,2072,2079,2086,2093,2107,2114,2121,2128,2142,2149,2156,2163,2177,2184,2191,2198,2212,2219,2226,2233,2247,2254,2261,2268,2282,2289,2296,2303,2317,2324,2331,2338,2352,2359,2366,2373,2387,2394,2401,2408,2422,2429,2436,2443,2457,2464,2471,2478,2492,2499,2506,2513,2527,2534,2541,2548,2562,2569,2576,2583,2597,2604,2611,2618,2632,2639,2646,2653,2667,2674,2681,2688,2702,2709,2716,2723,2737,2744,2751,2758,2772,2779,2786,2793,2807,2814,2821,2828,2842,2849,2856,2863,2877,2884,2891,2898,2912,2919,2926,2933,2947,2954,2961,2968,2982,2989,2996,3003,3017,3024,3031,3038,3052,3059,3066,3073,3087,3094,3101,3108,3122,3129,3136,3143,3157,3164,3171,3178,3192,3199\n"
          ],
          "name": "stdout"
        }
      ]
    },
    {
      "cell_type": "markdown",
      "metadata": {
        "id": "J2RZk8r1Dq2A",
        "colab_type": "text"
      },
      "source": [
        "3) **Write a Python program to accept the user's first and last name and then getting them printed in the the reverse order with a space between first name and last name.**"
      ]
    },
    {
      "cell_type": "code",
      "metadata": {
        "id": "vaDXOS5XDq7T",
        "colab_type": "code",
        "outputId": "15c847e4-0e35-45ad-ede7-6c72b669f3c5",
        "colab": {
          "base_uri": "https://localhost:8080/",
          "height": 87
        }
      },
      "source": [
        "import re\n",
        "\n",
        "# Get Name Function - Generic\n",
        "def get_String_Input(prompt_message):\n",
        "    input_string = input(prompt_message)\n",
        "    return input_string\n",
        "\n",
        "\n",
        "# Validate to allow only string and spaces. No other characters allowed in First,last Names\n",
        "def validate_string(input_string):\n",
        "    return bool(re.search(\"^[a-zA-Z ]+$\", input_string))\n",
        "\n",
        "\n",
        "# Function to loop input until correct string provided\n",
        "def loop_until_input(prompt_message):\n",
        "  while True:\n",
        "    userInput = get_String_Input(prompt_message).strip()\n",
        "    \n",
        "    if validate_string(userInput):\n",
        "        return userInput\n",
        "        break\n",
        "    else:\n",
        "        continue\n",
        "\n",
        "# Get Name details into variables\n",
        "first_name = loop_until_input(\"Enter First Name \")\n",
        "last_name = loop_until_input(\"Enter Last Name \")\n",
        "\n",
        "# print lastname firstname \n",
        "print (\"print lastname firstname : \", last_name , first_name)\n",
        "\n",
        "# print lastname firstname - strings reversed\n",
        "print (\"print lastname firstname - strings reversed : \", last_name[::-1] , first_name[::-1])"
      ],
      "execution_count": 0,
      "outputs": [
        {
          "output_type": "stream",
          "text": [
            "Enter First Name nAVEEN RAJ\n",
            "Enter Last Name CHANDRAN\n",
            "print lastname firstname :  CHANDRAN nAVEEN RAJ\n",
            "print lastname firstname - strings reversed :  NARDNAHC JAR NEEVAn\n"
          ],
          "name": "stdout"
        }
      ]
    },
    {
      "cell_type": "markdown",
      "metadata": {
        "id": "jViyh7gTDrA6",
        "colab_type": "text"
      },
      "source": [
        "4) **Write a Python program to find the volume of a sphere with diameter 12 cm.\n",
        "\tFormula: V=4/3 * p * r^3**"
      ]
    },
    {
      "cell_type": "code",
      "metadata": {
        "id": "yrgKFQitDrGJ",
        "colab_type": "code",
        "outputId": "0d510ab2-c4e6-49f4-e532-3ad5d603b12e",
        "colab": {
          "base_uri": "https://localhost:8080/",
          "height": 34
        }
      },
      "source": [
        "import math\n",
        "\n",
        "# Function to calculate volume of sphere - given input diameter\n",
        "# round off to 3 decimal places\n",
        "def calc_sphere_volume(diameter):\n",
        "    volume = round(4 / 3 * math.pi * (diameter/2) ** 3, 3 )\n",
        "    return volume\n",
        "\n",
        "# init diameter\n",
        "diameter = 12\n",
        "\n",
        "# print final volume of sphere for given diameter\n",
        "print (\"Volume of sphere for diameter \", diameter , \"cms : \", calc_sphere_volume(diameter), \" cubic centimetre\")\n"
      ],
      "execution_count": 0,
      "outputs": [
        {
          "output_type": "stream",
          "text": [
            "Volume of sphere for diameter  12 cms :  904.779  cubic centimetre\n"
          ],
          "name": "stdout"
        }
      ]
    },
    {
      "cell_type": "markdown",
      "metadata": {
        "id": "ofdhOqFvDrOf",
        "colab_type": "text"
      },
      "source": [
        "**TASK 2**"
      ]
    },
    {
      "cell_type": "markdown",
      "metadata": {
        "id": "5LW12Lq3CWlu",
        "colab_type": "text"
      },
      "source": [
        "1) **Write a program which accepts a sequence of comma-separated numbers from console\n",
        "\tand generate a list.**"
      ]
    },
    {
      "cell_type": "code",
      "metadata": {
        "id": "s10vX3cPCPmD",
        "colab_type": "code",
        "outputId": "36e74a96-49c1-4217-996c-7d2726b89361",
        "colab": {
          "base_uri": "https://localhost:8080/",
          "height": 70
        }
      },
      "source": [
        "import csv \n",
        "\n",
        "\t# Get user input into string\n",
        " \t# Use csv library to parse csv file. Error if not in same format\n",
        "\n",
        "csv_numbers_string = input(\"Enter sequence of numbers in csv format : \").strip()\n",
        "\n",
        "csv_numbers_obj = csv.reader([csv_numbers_string])\n",
        "  # Convert to a list[lists] using csvreader functions\n",
        "  \n",
        "csv_numbers_list = list(csv_numbers_obj)\n",
        "\n",
        "\t# Validate if list is populated correct\n",
        "  \n",
        "print (\"Length of list : \" , len(csv_numbers_list[0]))\n",
        "print (\"List contents entered : \", csv_numbers_list[0])"
      ],
      "execution_count": 0,
      "outputs": [
        {
          "output_type": "stream",
          "text": [
            "Enter sequence of numbers in csv format : a,23,45,b\n",
            "Length of list :  4\n",
            "List contents entered :  ['a', '23', '45', 'b']\n"
          ],
          "name": "stdout"
        }
      ]
    },
    {
      "cell_type": "markdown",
      "metadata": {
        "id": "zM_LyfhZGSn9",
        "colab_type": "text"
      },
      "source": [
        "2) **Create the below pattern using nested for loop in Python.\n",
        "\t*\n",
        "\t* *\n",
        "\t* * *\n",
        "\t* * * *\n",
        "\t* * * * *\n",
        "\t* * * *\n",
        "\t* * *\n",
        "\t* *\n",
        "\t***"
      ]
    },
    {
      "cell_type": "code",
      "metadata": {
        "id": "66zhG022DrTk",
        "colab_type": "code",
        "outputId": "4c7bcb71-ad44-4f3e-b744-c2989ca4ff32",
        "colab": {
          "base_uri": "https://localhost:8080/",
          "height": 175
        }
      },
      "source": [
        "# Set variables. Since using range function in for loop\n",
        "# Upper limit is non-inclusive\n",
        "# To calculate MAX = max number of '*' in middle row + 2\n",
        "MIN=2\n",
        "MAX=12\n",
        "AVG=int(MAX/2)\n",
        "\n",
        "for number_of_iter in range(MIN, MAX):\n",
        "\n",
        " # Init row to be printed\n",
        " row_to_print = \"\"\n",
        "\n",
        " if number_of_iter <= AVG:\n",
        "  # For iterations 2,3,4,5 - Enter here\n",
        "  upper_limit = number_of_iter\n",
        " else: \n",
        "  # For iterations 6,7,8,9,10,11 - Enter here\n",
        "  upper_limit = MAX - number_of_iter\n",
        " \n",
        " # use range function: upper_limit is always non-inclusive\n",
        " # Corner cases will get eliminated\n",
        " for loopvar in range(1,upper_limit):\n",
        "   row_to_print = row_to_print + \" \" + \"*\"\n",
        "\n",
        " # Remove preceeding space and nulls during print to console\n",
        " if len(row_to_print.strip()) > 0:\n",
        "  print (row_to_print.strip())"
      ],
      "execution_count": 0,
      "outputs": [
        {
          "output_type": "stream",
          "text": [
            "*\n",
            "* *\n",
            "* * *\n",
            "* * * *\n",
            "* * * * *\n",
            "* * * *\n",
            "* * *\n",
            "* *\n",
            "*\n"
          ],
          "name": "stdout"
        }
      ]
    },
    {
      "cell_type": "markdown",
      "metadata": {
        "id": "soRPVKMjGg2I",
        "colab_type": "text"
      },
      "source": [
        "3) **Write a Python program to reverse a word after accepting the input from the user**.\n",
        "\n",
        "\tSample Output:\n",
        "\tInput word: AcadGild\n",
        "\tOutput: dilGdacA**"
      ]
    },
    {
      "cell_type": "code",
      "metadata": {
        "id": "YqBJPLXfGhGe",
        "colab_type": "code",
        "outputId": "b2522120-0b9a-4cd1-a832-f87b23100662",
        "colab": {
          "base_uri": "https://localhost:8080/",
          "height": 52
        }
      },
      "source": [
        "input_word = input(\"Enter word to be reversed : \").strip()\n",
        "print (\"Reversed word : \" + input_word[::-1])\n"
      ],
      "execution_count": 0,
      "outputs": [
        {
          "output_type": "stream",
          "text": [
            "Enter word to be reversed : naveen\n",
            "Reversed word : neevan\n"
          ],
          "name": "stdout"
        }
      ]
    },
    {
      "cell_type": "markdown",
      "metadata": {
        "id": "hl2S40knGw3o",
        "colab_type": "text"
      },
      "source": [
        "4)  **Write a Python Program to print the given string in the format specified in the sample**\n",
        "\n",
        "\toutput.\n",
        "  \n",
        "\tWE, THE PEOPLE OF INDIA, having solemnly resolved to constitute India into a\n",
        "\tSOVEREIGN, SOCIALIST, SECULAR, DEMOCRATIC REPUBLIC and to secure to all\n",
        "\tits citizens\n",
        "  \n",
        "\tSample Output:\n",
        "  \n",
        "\tWE, THE PEOPLE OF INDIA,\n",
        "\t      having solemnly resolved to constitute India into a SOVEREIGN, !\n",
        "\t            SOCIALIST, SECULAR, DEMOCRATIC REPUBLIC\n",
        "\t             and to secure to all its citizens:**"
      ]
    },
    {
      "cell_type": "code",
      "metadata": {
        "id": "ACuP89GGG92J",
        "colab_type": "code",
        "outputId": "c6bf15bd-8371-4727-a38c-b4f2a0ccfb02",
        "colab": {
          "base_uri": "https://localhost:8080/",
          "height": 195
        }
      },
      "source": [
        "input_sentence = \"WE, THE PEOPLE OF INDIA, having solemnly resolved to constitute India into a SOVEREIGN, SOCIALIST, SECULAR, DEMOCRATIC REPUBLIC and to secure to all its citizens\"\n",
        "print (\"input_sentence : \" + input_sentence)\n",
        "\n",
        "print (\"\\n\\n\")\n",
        "\n",
        "formatted_sentence = input_sentence.replace(\"INDIA, \", \"INDIA,\\n\").replace(\"SOVEREIGN, \", \"SOVEREIGN, !\\n\").replace(\"REPUBLIC \", \"REPUBLIC \\n\") + (\":\")\n",
        "print (\"Formatted sentence : \\n\" + formatted_sentence)\n"
      ],
      "execution_count": 0,
      "outputs": [
        {
          "output_type": "stream",
          "text": [
            "input_sentence : WE, THE PEOPLE OF INDIA, having solemnly resolved to constitute India into a SOVEREIGN, SOCIALIST, SECULAR, DEMOCRATIC REPUBLIC and to secure to all its citizens\n",
            "\n",
            "\n",
            "\n",
            "Formatted sentence : \n",
            "WE, THE PEOPLE OF INDIA,\n",
            "having solemnly resolved to constitute India into a SOVEREIGN, !\n",
            "SOCIALIST, SECULAR, DEMOCRATIC REPUBLIC \n",
            "and to secure to all its citizens:\n"
          ],
          "name": "stdout"
        }
      ]
    }
  ]
}